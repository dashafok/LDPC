{
 "cells": [
  {
   "cell_type": "markdown",
   "metadata": {},
   "source": [
    "Attempt 1"
   ]
  },
  {
   "cell_type": "code",
   "execution_count": 2,
   "metadata": {
    "collapsed": true
   },
   "outputs": [],
   "source": [
    "# !pip install --update pyldpc\n",
    "import pyldpc\n",
    "import numpy as np"
   ]
  },
  {
   "cell_type": "code",
   "execution_count": 2,
   "metadata": {},
   "outputs": [
    {
     "name": "stdout",
     "output_type": "stream",
     "text": [
      "Regular parity-check matrix H(15,4,5):\n",
      "\n",
      " [[1 1 1 1 1 0 0 0 0 0 0 0 0 0 0]\n",
      " [0 0 0 0 0 1 1 1 1 1 0 0 0 0 0]\n",
      " [0 0 0 0 0 0 0 0 0 0 1 1 1 1 1]\n",
      " [0 1 0 1 0 0 1 0 1 1 0 0 0 0 0]\n",
      " [0 0 1 0 1 0 0 0 0 0 0 1 0 1 1]\n",
      " [1 0 0 0 0 1 0 1 0 0 1 0 1 0 0]\n",
      " [0 1 0 0 1 0 0 0 1 1 1 0 0 0 0]\n",
      " [0 0 0 1 0 0 0 1 0 0 0 1 1 0 1]\n",
      " [1 0 1 0 0 1 1 0 0 0 0 0 0 1 0]\n",
      " [1 0 0 0 0 0 1 0 0 1 0 1 0 1 0]\n",
      " [0 1 0 0 1 1 0 1 1 0 0 0 0 0 0]\n",
      " [0 0 1 1 0 0 0 0 0 0 1 0 1 0 1]]\n"
     ]
    }
   ],
   "source": [
    "n = 15  # Number of columns\n",
    "d_v = 4 # Number of ones per column, must be lower than d_c (because H must have more rows than columns)\n",
    "d_c = 5 # Number of ones per row, must divide n (because if H has m rows: m*d_c = n*d_v (compute number of ones in H))\n",
    "\n",
    "H = pyldpc.RegularH(n,d_v,d_c)\n",
    "\n",
    "print(\"Regular parity-check matrix H({},{},{}):\\n\\n\".format(n,d_v,d_c),H)"
   ]
  },
  {
   "cell_type": "code",
   "execution_count": 3,
   "metadata": {
    "scrolled": true
   },
   "outputs": [
    {
     "name": "stdout",
     "output_type": "stream",
     "text": [
      "Transposed Coding Matrix tG that goes with H above is:\n",
      "\n",
      " [[1 0 0 1 0 0]\n",
      " [1 1 0 1 0 1]\n",
      " [0 1 0 0 0 0]\n",
      " [0 1 1 0 1 0]\n",
      " [0 1 1 0 1 1]\n",
      " [1 1 1 0 0 0]\n",
      " [0 0 1 1 1 0]\n",
      " [0 1 0 1 1 1]\n",
      " [0 0 0 0 0 1]\n",
      " [1 0 0 0 0 0]\n",
      " [0 0 1 1 1 1]\n",
      " [0 0 1 0 0 0]\n",
      " [0 0 0 1 0 0]\n",
      " [0 0 0 0 1 0]\n",
      " [0 0 0 0 0 1]]\n",
      "\n",
      " With G,H you can code messages of 6 bits into codewords of 15 bits because G's shape is (6, 15)\n",
      "\n"
     ]
    }
   ],
   "source": [
    "tG = pyldpc.CodingMatrix(H)\n",
    "print(\"Transposed Coding Matrix tG that goes with H above is:\\n\\n\",tG)\n",
    "print(\"\\n With G,H you can code messages of {} bits into codewords of {} bits because G's shape is {}\\n\".format(tG.shape[1], tG.shape[0],tG.T.shape))"
   ]
  },
  {
   "cell_type": "markdown",
   "metadata": {},
   "source": [
    "Attempt 2"
   ]
  },
  {
   "cell_type": "code",
   "execution_count": 1,
   "metadata": {
    "collapsed": true
   },
   "outputs": [],
   "source": [
    "# input\n",
    "import numpy as np\n",
    "import scipy\n",
    "import scipy.sparse\n",
    "from scipy.sparse import csr_matrix, csc_matrix\n",
    "\n",
    "H = np.array([[1, 1, 0, 1, 0, 0], \n",
    "              [0, 1, 1, 0, 1, 0],\n",
    "              [1, 0, 0, 0, 1, 1],\n",
    "              [0, 0, 1, 1, 0, 1]])\n",
    "\n",
    "c = np.array([0, 0, 1, 0, 1, 1])\n",
    "y = np.array([1, 0, 1, 0, 1, 1])\n",
    "p = 0.2"
   ]
  },
  {
   "cell_type": "code",
   "execution_count": 2,
   "metadata": {},
   "outputs": [
    {
     "data": {
      "text/plain": [
       "array([-1.38629436,  1.38629436, -1.38629436,  1.38629436, -1.38629436,\n",
       "       -1.38629436])"
      ]
     },
     "execution_count": 2,
     "metadata": {},
     "output_type": "execute_result"
    }
   ],
   "source": [
    "log_p = np.log(p/(1-p))\n",
    "r = log_p * (2 * (y == 1) - 1)\n",
    "r"
   ]
  },
  {
   "cell_type": "code",
   "execution_count": 3,
   "metadata": {
    "collapsed": true
   },
   "outputs": [],
   "source": [
    "def simple_sum_product_decording(H, r, maxiter=1):\n",
    "#     Prepare\n",
    "    n_check_nodes, n_bit_nodes = H.shape\n",
    "    H_csr = csr_matrix(H)\n",
    "    H_csc = H_csr.tocsc(copy=True)\n",
    "    \n",
    "    csr_ptr = H_csr.indptr\n",
    "    csr_ind = H_csr.indices\n",
    "    \n",
    "    csc_ptr = H_csc.indptr\n",
    "    csc_ind = H_csc.indices\n",
    "    \n",
    "    nnz = H_csr.nnz\n",
    "    M_csc = np.empty(nnz, dtype=np.float64)\n",
    "    E_csr = np.empty(nnz, dtype=np.float64)\n",
    "    L = np.empty(n_bit_nodes, dtype=np.float64)\n",
    "#     Initialize\n",
    "    for i in range(n_bit_nodes):\n",
    "#         M[csr_ptr[k]:csr_ptr[k+1]] = r[csr_ind[csr_ptr[k]:csr_ptr[k+1]]]\n",
    "        M_csc[csc_ptr[i]:csc_ptr[i+1]] = r[i]\n",
    "#         M_csc[csc_ptr[k]:csc_ptr[k+1]] = r[csc_ind[csc_ptr[k]:csc_ptr[k+1]]]\n",
    "    print(\"M:\\n\", csc_matrix((M_csc, csc_ind, csc_ptr)).toarray())\n",
    "    \n",
    "    for ii in range(maxiter):\n",
    "        M_csr = csc_matrix((M_csc, csc_ind, csc_ptr)).tocsr().data\n",
    "        for j in range(n_check_nodes):\n",
    "            j_beg = csr_ptr[j]\n",
    "            j_end = csr_ptr[j+1]\n",
    "            M_local = np.tanh(M_csr[j_beg:j_end] / 2)\n",
    "            for e in range(j_end-j_beg):\n",
    "                prod_local = M_local[:e].prod() * M_local[e+1:].prod()\n",
    "                E_csr[j_beg+e] = np.log((1. + prod_local) / (1. - prod_local))\n",
    "        \n",
    "        print(\"E:\\n\", csr_matrix((E_csr, csr_ind, csr_ptr)).toarray())\n",
    "        E_csc = csr_matrix((E_csr, csr_ind, csr_ptr)).tocsc().data\n",
    "#         Get message\n",
    "        L = np.array(r)\n",
    "        for i in range(n_bit_nodes):\n",
    "            L[i] += E_csc[csc_ptr[i]:csc_ptr[i+1]].sum()\n",
    "        z = 1 * (L <= 0)\n",
    "#         Check message  \n",
    "        if np.any(H.dot(z) % 2 != 0):\n",
    "#             Update M\n",
    "            for i in range(n_bit_nodes):\n",
    "                i_beg = csc_ptr[i]              #column beg\n",
    "                i_end = csc_ptr[i+1]            #column end\n",
    "                E_local = E_csc[i_beg:i_end]\n",
    "                for e, j in range(csc_ind[i_beg:i_end]):\n",
    "                    M[i_beg+e] = E_local[:e].sum() + E_local[e+1:].sum() + r[i]\n",
    "        else:\n",
    "            break\n",
    "    return z\n",
    "        "
   ]
  },
  {
   "cell_type": "code",
   "execution_count": 4,
   "metadata": {},
   "outputs": [
    {
     "name": "stdout",
     "output_type": "stream",
     "text": [
      "M:\n",
      " [[-1.38629436  1.38629436  0.          1.38629436  0.          0.        ]\n",
      " [ 0.          1.38629436 -1.38629436  0.         -1.38629436  0.        ]\n",
      " [-1.38629436  0.          0.          0.         -1.38629436 -1.38629436]\n",
      " [ 0.          0.         -1.38629436  1.38629436  0.         -1.38629436]]\n",
      "E:\n",
      " [[ 0.7537718 -0.7537718  0.        -0.7537718  0.         0.       ]\n",
      " [ 0.         0.7537718 -0.7537718  0.        -0.7537718  0.       ]\n",
      " [ 0.7537718  0.         0.         0.         0.7537718  0.7537718]\n",
      " [ 0.         0.        -0.7537718  0.7537718  0.        -0.7537718]]\n"
     ]
    },
    {
     "data": {
      "text/plain": [
       "array([0, 0, 1, 0, 1, 1])"
      ]
     },
     "execution_count": 4,
     "metadata": {},
     "output_type": "execute_result"
    }
   ],
   "source": [
    "simple_sum_product_decording(H, r)"
   ]
  }
 ],
 "metadata": {
  "kernelspec": {
   "display_name": "Python 3",
   "language": "python",
   "name": "python3"
  },
  "language_info": {
   "codemirror_mode": {
    "name": "ipython",
    "version": 3
   },
   "file_extension": ".py",
   "mimetype": "text/x-python",
   "name": "python",
   "nbconvert_exporter": "python",
   "pygments_lexer": "ipython3",
   "version": "3.6.3"
  }
 },
 "nbformat": 4,
 "nbformat_minor": 2
}
